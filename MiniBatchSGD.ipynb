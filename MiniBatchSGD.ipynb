{
 "cells": [
  {
   "cell_type": "code",
   "execution_count": 1,
   "metadata": {},
   "outputs": [],
   "source": [
    "import numpy as np"
   ]
  },
  {
   "cell_type": "code",
   "execution_count": 7,
   "metadata": {},
   "outputs": [
    {
     "ename": "TypeError",
     "evalue": "__init__() got an unexpected keyword argument 'learning_rate'",
     "output_type": "error",
     "traceback": [
      "\u001b[0;31m---------------------------------------------------------------------------\u001b[0m",
      "\u001b[0;31mTypeError\u001b[0m                                 Traceback (most recent call last)",
      "\u001b[0;32m<ipython-input-7-9f29c0321613>\u001b[0m in \u001b[0;36m<module>\u001b[0;34m()\u001b[0m\n\u001b[1;32m      1\u001b[0m \u001b[0;31m#### ANN ####\u001b[0m\u001b[0;34m\u001b[0m\u001b[0;34m\u001b[0m\u001b[0;34m\u001b[0m\u001b[0m\n\u001b[0;32m----> 2\u001b[0;31m \u001b[0mann\u001b[0m \u001b[0;34m=\u001b[0m \u001b[0mMiniBatchSGD\u001b[0m\u001b[0;34m(\u001b[0m\u001b[0mlearning_rate\u001b[0m\u001b[0;34m=\u001b[0m\u001b[0;36m0.25\u001b[0m\u001b[0;34m,\u001b[0m \u001b[0mmomentum\u001b[0m\u001b[0;34m=\u001b[0m\u001b[0;36m0.0001\u001b[0m\u001b[0;34m)\u001b[0m\u001b[0;34m\u001b[0m\u001b[0;34m\u001b[0m\u001b[0m\n\u001b[0m\u001b[1;32m      3\u001b[0m \u001b[0mann\u001b[0m\u001b[0;34m.\u001b[0m\u001b[0madd_input\u001b[0m\u001b[0;34m(\u001b[0m\u001b[0mlen\u001b[0m\u001b[0;34m(\u001b[0m\u001b[0mtrain_data\u001b[0m\u001b[0;34m[\u001b[0m\u001b[0;36m0\u001b[0m\u001b[0;34m]\u001b[0m\u001b[0;34m)\u001b[0m\u001b[0;34m)\u001b[0m\u001b[0;34m\u001b[0m\u001b[0;34m\u001b[0m\u001b[0m\n\u001b[1;32m      4\u001b[0m \u001b[0mann\u001b[0m\u001b[0;34m.\u001b[0m\u001b[0madd_layer\u001b[0m\u001b[0;34m(\u001b[0m\u001b[0msize\u001b[0m\u001b[0;34m=\u001b[0m\u001b[0;36m30\u001b[0m\u001b[0;34m)\u001b[0m\u001b[0;34m\u001b[0m\u001b[0;34m\u001b[0m\u001b[0m\n\u001b[1;32m      5\u001b[0m \u001b[0mann\u001b[0m\u001b[0;34m.\u001b[0m\u001b[0madd_layer\u001b[0m\u001b[0;34m(\u001b[0m\u001b[0msize\u001b[0m\u001b[0;34m=\u001b[0m\u001b[0;36m20\u001b[0m\u001b[0;34m)\u001b[0m\u001b[0;34m\u001b[0m\u001b[0;34m\u001b[0m\u001b[0m\n",
      "\u001b[0;31mTypeError\u001b[0m: __init__() got an unexpected keyword argument 'learning_rate'"
     ]
    }
   ],
   "source": [
    "#### ANN ####\n",
    "ann = MiniBatchSGD(learning_rate=0.25, momentum=0.0001)\n",
    "ann.add_input(len(train_data[0]))\n",
    "ann.add_layer(size=30)\n",
    "ann.add_layer(size=20)\n",
    "ann.add_layer(size=10)\n",
    "\n",
    "ann.fit(train_data, target_data, epochs, batch_size)\n",
    "scores = ann.evaluate(test_data, test_target)\n",
    "print(scores)"
   ]
  },
  {
   "cell_type": "code",
   "execution_count": 32,
   "metadata": {},
   "outputs": [
    {
     "name": "stdout",
     "output_type": "stream",
     "text": [
      "Neuron  0\n",
      "1\n",
      "2\n",
      "3\n",
      "4\n",
      "Neuron  1\n",
      "5\n",
      "6\n",
      "7\n",
      "8\n",
      "batch finished!\n",
      "Neuron  2\n",
      "0\n",
      "0\n",
      "0\n",
      "0\n",
      "batch finished!\n",
      "epoch finished!!\n",
      "None\n"
     ]
    }
   ],
   "source": [
    "#### ANN ####\n",
    "trainData=[[1,2,3,4], [5,6,7,8], [0,0,0,0]]\n",
    "targetData=[0,0,1]\n",
    "testData=[1,5]\n",
    "testTarget=[2,6]\n",
    "ann = MiniBatchSGD(learningRate=0.25, momentum=0.0001)\n",
    "ann.add_input(len(train_data[0]))\n",
    "#ann.add_layer(size=30)\n",
    "#ann.add_layer(size=20)\n",
    "#ann.add_layer(size=10)\n",
    "\n",
    "ann.fit(trainData, targetData, batchSize=2)\n",
    "scores = ann.evaluate(testData, testTarget)\n",
    "print(scores)"
   ]
  },
  {
   "cell_type": "code",
   "execution_count": 31,
   "metadata": {},
   "outputs": [],
   "source": [
    "class MiniBatchSGD:\n",
    "    \n",
    "    # Belum Selesai\n",
    "    def __init__(self, learningRate=0.25, momentum=0.01):\n",
    "        self.learningRate = learningRate\n",
    "        self.momentum = momentum\n",
    "        self.layers = []\n",
    "        self.neuronList = []\n",
    "        self.numLayer = 0\n",
    "        \n",
    "    # Belum Selesai\n",
    "    def add_input(self, inputDim):\n",
    "        self.inputDim = inputDim\n",
    "    \n",
    "    # Belum Selesai\n",
    "    def add_layer(self, size):\n",
    "        self.neuronList.append(np.zeros(size))\n",
    "    \n",
    "    # Belum Selesai\n",
    "    def fit(self, data, target, epochs=1, batchSize=10):\n",
    "        \n",
    "        # Dapat dioptimasi dengan pemodelan matematika yang lebih baik\n",
    "        for i in range(0,epochs):\n",
    "            for j in range(0,len(data),batchSize):\n",
    "                for k in range(j,j+batchSize):\n",
    "                    if (k >= len(data)):\n",
    "                        break\n",
    "                    print(\"Neuron \", k)\n",
    "                    for l in range(0,self.inputDim):\n",
    "                        print(data[k][l])    \n",
    "                print(\"batch finished!\")\n",
    "            print(\"epoch finished!!\")\n",
    "    \n",
    "    # Belum Selesai\n",
    "    def evaluate(self, testData, testTarget):\n",
    "        return None\n",
    "    \n",
    "    # Belum Selesai\n",
    "    def process(self):\n",
    "        \n",
    "        feed_forward()\n",
    "        backward_propagation()\n",
    "        update_weight()\n",
    "    \n",
    "    # Belum Selesai\n",
    "    def feed_forward(self):\n",
    "        return None\n",
    "    \n",
    "    # Belum Selesai\n",
    "    def backward_propagation(self):\n",
    "        return None\n",
    "    \n",
    "    # Belum Selesai\n",
    "    def update_weight(self):\n",
    "        return None\n",
    "    \n",
    "    # Belum Selesai\n",
    "    def sigmoid(self, value):\n",
    "        return 1"
   ]
  },
  {
   "cell_type": "code",
   "execution_count": null,
   "metadata": {},
   "outputs": [],
   "source": [
    "# Kelas Neuron yang terdiri dari atribut:\n",
    "# 1) local_gradient\n",
    "# 2) index\n",
    "# 3) feed_forward\n",
    "# 4) type menerima enumerasi NeuronType\n",
    "class Neuron:\n",
    "    \n",
    "    def feed_forward(self, weight):\n",
    "        "
   ]
  },
  {
   "cell_type": "code",
   "execution_count": null,
   "metadata": {},
   "outputs": [],
   "source": [
    "layer[]\n",
    "for i in range(0,len(layer)):\n",
    "    for neuron in layer[i]:\n",
    "        neuron.feed_forward()"
   ]
  },
  {
   "cell_type": "code",
   "execution_count": null,
   "metadata": {},
   "outputs": [],
   "source": [
    "ffValue[currLayer][idxNeuron] = w[currLayer][i]*ffvalue[prevLayer][i]+bias[idxNeuron]"
   ]
  }
 ],
 "metadata": {
  "kernelspec": {
   "display_name": "Python 3",
   "language": "python",
   "name": "python3"
  },
  "language_info": {
   "codemirror_mode": {
    "name": "ipython",
    "version": 3
   },
   "file_extension": ".py",
   "mimetype": "text/x-python",
   "name": "python",
   "nbconvert_exporter": "python",
   "pygments_lexer": "ipython3",
   "version": "3.6.7"
  }
 },
 "nbformat": 4,
 "nbformat_minor": 2
}
